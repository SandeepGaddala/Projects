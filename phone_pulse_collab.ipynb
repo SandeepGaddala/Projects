{
  "cells": [
    {
      "cell_type": "markdown",
      "metadata": {
        "id": "view-in-github",
        "colab_type": "text"
      },
      "source": [
        "<a href=\"https://colab.research.google.com/github/SandeepGaddala/Projects/blob/main/phone_pulse_collab.ipynb\" target=\"_parent\"><img src=\"https://colab.research.google.com/assets/colab-badge.svg\" alt=\"Open In Colab\"/></a>"
      ]
    },
    {
      "cell_type": "code",
      "source": [
        "#colne the data from phonpe pult github\n",
        "! git clone \"http://github.com/PhonePe/Pulse.git\""
      ],
      "metadata": {
        "colab": {
          "base_uri": "https://localhost:8080/"
        },
        "id": "71hMndbTQpqi",
        "outputId": "16ae17cd-8fef-485d-c5c2-0cb04f5ca496"
      },
      "id": "71hMndbTQpqi",
      "execution_count": null,
      "outputs": [
        {
          "output_type": "stream",
          "name": "stdout",
          "text": [
            "Cloning into 'Pulse'...\n",
            "warning: redirecting to https://github.com/PhonePe/Pulse.git/\n",
            "remote: Enumerating objects: 17904, done.\u001b[K\n",
            "remote: Counting objects: 100% (49/49), done.\u001b[K\n",
            "remote: Compressing objects: 100% (32/32), done.\u001b[K\n",
            "remote: Total 17904 (delta 19), reused 17 (delta 17), pack-reused 17855 (from 2)\u001b[K\n",
            "Receiving objects: 100% (17904/17904), 26.13 MiB | 13.45 MiB/s, done.\n",
            "Resolving deltas: 100% (8723/8723), done.\n",
            "Updating files: 100% (9029/9029), done.\n"
          ]
        }
      ]
    },
    {
      "cell_type": "code",
      "source": [
        "import pandas as pd\n",
        "import json\n",
        "import os"
      ],
      "metadata": {
        "id": "zFdgcI0g8kz_"
      },
      "id": "zFdgcI0g8kz_",
      "execution_count": null,
      "outputs": []
    },
    {
      "cell_type": "markdown",
      "source": [
        "**Aggregrate --> Insurance**"
      ],
      "metadata": {
        "id": "D0K4xKv7Tbwn"
      },
      "id": "D0K4xKv7Tbwn"
    },
    {
      "cell_type": "code",
      "source": [
        "path1 = \"/content/Pulse/data/aggregated/insurance/country/india/state\"\n",
        "agg_trans_list = os.listdir(path1)\n",
        "# agg_trans_list\n",
        "clm = {'State': [], 'Year': [], 'Quater': [], 'Transaction_type': [], 'Transaction_count': [], 'Transaction_amount': []}\n",
        "for i in agg_trans_list:\n",
        "  p_i = path1+\"/\"+i\n",
        "  agg_yr = os.listdir(p_i)\n",
        "  for j in agg_yr:\n",
        "    p_j = p_i+\"/\"+j\n",
        "    agg_yr_list = os.listdir(p_j)\n",
        "    for k in agg_yr_list:\n",
        "      p_k = p_j+\"/\"+k\n",
        "      data = open(p_k, 'r')\n",
        "      A = json.load(data)\n",
        "      for z in A['data']['transactionData']:\n",
        "        Name = z['name']\n",
        "        count =z['paymentInstruments'][0]['count']\n",
        "        amount=z['paymentInstruments'][0]['amount']\n",
        "        clm['Transaction_type'].append(Name)\n",
        "        clm['Transaction_count'].append(count)\n",
        "        clm['Transaction_amount'].append(amount)\n",
        "        clm['State'].append(i)\n",
        "        clm['Year'].append(j)\n",
        "        clm['Quater'].append(int(k.strip('.json')))\n",
        "#create a dataframe\n",
        "pd.DataFrame(clm)\n",
        "df_agg = pd.DataFrame(clm)"
      ],
      "metadata": {
        "id": "iG0HowEO86wO"
      },
      "id": "iG0HowEO86wO",
      "execution_count": null,
      "outputs": []
    },
    {
      "cell_type": "code",
      "source": [
        "df_agg.to_csv(\"agg_insurance.csv\")"
      ],
      "metadata": {
        "id": "2BErT0Z0RVri"
      },
      "id": "2BErT0Z0RVri",
      "execution_count": null,
      "outputs": []
    },
    {
      "cell_type": "code",
      "source": [
        "df_agg.head()"
      ],
      "metadata": {
        "id": "JVw39ZeJ9JyP"
      },
      "id": "JVw39ZeJ9JyP",
      "execution_count": null,
      "outputs": []
    },
    {
      "cell_type": "code",
      "source": [
        "import sqlite3\n",
        "con = sqlite3.connect('pulse.db')\n",
        "c = con.cursor()"
      ],
      "metadata": {
        "id": "YUmQjpXpzSTH"
      },
      "id": "YUmQjpXpzSTH",
      "execution_count": null,
      "outputs": []
    },
    {
      "cell_type": "code",
      "source": [
        "c.execute('''CREATE TABLE IF NOT EXISTS TRANSACTION_DATA(\n",
        "  STATE TEXT,\n",
        "  YEAR TEXT,\n",
        "  QUATER TEXT,\n",
        "  TRANSACTION_TYPE TEXT,\n",
        "  TRANSACTION_COUNT TEXT,\n",
        "  TRANSACTION_AMOUNT TEXT\n",
        ")''')"
      ],
      "metadata": {
        "colab": {
          "base_uri": "https://localhost:8080/"
        },
        "id": "2Ud2NmEJzXFs",
        "outputId": "e9e5b502-f8f5-4304-bde0-5697f1b84d73"
      },
      "id": "2Ud2NmEJzXFs",
      "execution_count": null,
      "outputs": [
        {
          "output_type": "execute_result",
          "data": {
            "text/plain": [
              "<sqlite3.Cursor at 0x7d25978a3e40>"
            ]
          },
          "metadata": {},
          "execution_count": 6
        }
      ]
    },
    {
      "cell_type": "code",
      "source": [
        "c.executemany('INSERT INTO TRANSACTION_DATA VALUES(?,?,?,?,?,?)',\n",
        "              zip(clm['State'], clm['Year'], clm['Quater'], clm['Transaction_type'], clm['Transaction_count'], clm['Transaction_amount']))"
      ],
      "metadata": {
        "colab": {
          "base_uri": "https://localhost:8080/"
        },
        "id": "SdcANdGazbmH",
        "outputId": "15fe5985-b979-42fa-946a-f4810895be3c"
      },
      "id": "SdcANdGazbmH",
      "execution_count": null,
      "outputs": [
        {
          "output_type": "execute_result",
          "data": {
            "text/plain": [
              "<sqlite3.Cursor at 0x7d25978a3e40>"
            ]
          },
          "metadata": {},
          "execution_count": 7
        }
      ]
    },
    {
      "cell_type": "code",
      "source": [
        "x = c.execute('SELECT * FROM TRANSACTION_DATA')\n",
        "x = c.fetchall()\n",
        "for row in x:\n",
        "  print(row)\n",
        "print()"
      ],
      "metadata": {
        "id": "8uu7vp39zdFT"
      },
      "id": "8uu7vp39zdFT",
      "execution_count": null,
      "outputs": []
    },
    {
      "cell_type": "code",
      "source": [
        "con.commit()\n",
        "con.close()"
      ],
      "metadata": {
        "id": "NOHgGHUBzmf-"
      },
      "id": "NOHgGHUBzmf-",
      "execution_count": null,
      "outputs": []
    },
    {
      "cell_type": "markdown",
      "source": [
        "**Aggregrate --> Transactions**"
      ],
      "metadata": {
        "id": "8FCue5lRTiJz"
      },
      "id": "8FCue5lRTiJz"
    },
    {
      "cell_type": "code",
      "source": [
        "path2 = \"/content/Pulse/data/aggregated/transaction/country/india/state\"\n",
        "agg_trans_list2 = os.listdir(path2)\n",
        "clm2 = {'State': [], 'Year': [], 'Quater': [], 'Transaction_type': [], 'Transaction_count': [], 'Transaction_amount': []}\n",
        "for i in agg_trans_list2:\n",
        "  p_i2 = path2+\"/\"+i\n",
        "  agg_yr2 = os.listdir(p_i2)\n",
        "  for j in agg_yr2:\n",
        "    p_j2 = p_i2+\"/\"+j\n",
        "    agg_yr_list2 = os.listdir(p_j2)\n",
        "    for k in agg_yr_list2:\n",
        "      p_k2 = p_j2+\"/\"+k\n",
        "      data = open(p_k2, 'r')\n",
        "      A = json.load(data)\n",
        "      for z in A['data']['transactionData']:\n",
        "        Name = z['name']\n",
        "        count =z['paymentInstruments'][0]['count']\n",
        "        amount=z['paymentInstruments'][0]['amount']\n",
        "        clm2['Transaction_type'].append(Name)\n",
        "        clm2['Transaction_count'].append(count)\n",
        "        clm2['Transaction_amount'].append(amount)\n",
        "        clm2['State'].append(i)\n",
        "        clm2['Year'].append(j)\n",
        "        clm2['Quater'].append(int(k.strip('.json')))\n",
        "#create a dataframe\n",
        "pd.DataFrame(clm2)\n",
        "df_agg2 = pd.DataFrame(clm2)\n"
      ],
      "metadata": {
        "id": "ehnq3rS-z_iQ"
      },
      "id": "ehnq3rS-z_iQ",
      "execution_count": null,
      "outputs": []
    },
    {
      "cell_type": "code",
      "source": [
        "df_agg2.to_csv(\"agg_transaction.csv\")"
      ],
      "metadata": {
        "id": "youj-dEDTq4t"
      },
      "id": "youj-dEDTq4t",
      "execution_count": null,
      "outputs": []
    },
    {
      "cell_type": "code",
      "source": [
        "df_agg2.head()"
      ],
      "metadata": {
        "id": "l_tA85E-3iWB"
      },
      "id": "l_tA85E-3iWB",
      "execution_count": null,
      "outputs": []
    },
    {
      "cell_type": "code",
      "source": [
        "import sqlite3\n",
        "con = sqlite3.connect('pulse.db')\n",
        "c = con.cursor()"
      ],
      "metadata": {
        "id": "kqFvvRw7247t"
      },
      "id": "kqFvvRw7247t",
      "execution_count": null,
      "outputs": []
    },
    {
      "cell_type": "code",
      "source": [
        "c.execute('''CREATE TABLE IF NOT EXISTS TRANSACTION_DATA2(\n",
        "  STATE TEXT,\n",
        "  YEAR TEXT,\n",
        "  QUATER TEXT,\n",
        "  TRANSACTION_TYPE TEXT,\n",
        "  TRANSACTION_COUNT TEXT,\n",
        "  TRANSACTION_AMOUNT TEXT\n",
        ")''')"
      ],
      "metadata": {
        "colab": {
          "base_uri": "https://localhost:8080/"
        },
        "id": "zMYqdNu23AmL",
        "outputId": "b7114ff8-b3dc-471c-f761-1c4c1aad989f"
      },
      "id": "zMYqdNu23AmL",
      "execution_count": null,
      "outputs": [
        {
          "output_type": "execute_result",
          "data": {
            "text/plain": [
              "<sqlite3.Cursor at 0x7d2597702440>"
            ]
          },
          "metadata": {},
          "execution_count": 13
        }
      ]
    },
    {
      "cell_type": "code",
      "source": [
        "c.executemany('INSERT INTO TRANSACTION_DATA2 VALUES(?,?,?,?,?,?)',\n",
        "              zip(clm['State'], clm['Year'], clm['Quater'], clm['Transaction_type'], clm['Transaction_count'], clm['Transaction_amount']))"
      ],
      "metadata": {
        "colab": {
          "base_uri": "https://localhost:8080/"
        },
        "id": "91_Bkq5OyWhQ",
        "outputId": "92602b99-1a23-4df6-ea3b-a97d89604257"
      },
      "id": "91_Bkq5OyWhQ",
      "execution_count": null,
      "outputs": [
        {
          "output_type": "execute_result",
          "data": {
            "text/plain": [
              "<sqlite3.Cursor at 0x7d2597702440>"
            ]
          },
          "metadata": {},
          "execution_count": 14
        }
      ]
    },
    {
      "cell_type": "code",
      "source": [
        "x = c.execute('SELECT * FROM TRANSACTION_DATA2')\n",
        "x = c.fetchall()\n",
        "for row in x:\n",
        "  print(row)\n",
        "print()"
      ],
      "metadata": {
        "id": "KGYrU-ZS3OUS"
      },
      "id": "KGYrU-ZS3OUS",
      "execution_count": null,
      "outputs": []
    },
    {
      "cell_type": "code",
      "source": [
        "con.commit()\n",
        "con.close()"
      ],
      "metadata": {
        "id": "j3FOXsrE3GAV"
      },
      "id": "j3FOXsrE3GAV",
      "execution_count": null,
      "outputs": []
    },
    {
      "cell_type": "markdown",
      "source": [],
      "metadata": {
        "id": "NczW-05oUJ4q"
      },
      "id": "NczW-05oUJ4q"
    },
    {
      "cell_type": "code",
      "source": [
        "path2 = \"/content/Pulse/data/aggregated/user/country/india/state\"\n",
        "Agg_transc_user_list = os.listdir(path2)\n",
        "\n",
        "#extracting the data from Aggregate---->Transaction--->user--->state to create the dataframe\n",
        "\n",
        "clm = clm={\"No of Registered User\":[],\"AppOpens\":[],'State':[], 'Year':[], \"Quarter\":[]}\n",
        "\n",
        "for i in Agg_transc_user_list:\n",
        "  p_i = path2 + i +\"/\"\n",
        "  Agg_year = os.listdir(p_i)\n",
        "  for j in Agg_year:\n",
        "    p_j = p_i + j + \"/\"\n",
        "    Agg_year_list = os.listdir(p_j)\n",
        "    for k in Agg_year_list:\n",
        "      p_k = p_j + k\n",
        "      with open(p_k,'r') as f:\n",
        "        data = json.load(f)\n",
        "        clm['No of Registered User'].append(data['data']['aggregated']['registeredUsers'])\n",
        "        clm['AppOpens'].append(data['data']['aggregated']['appOpens'])\n",
        "        #clm['Percentage'].append(data['data']['usersByDevice'][0]['percentage'])\n",
        "        #clm['Brand'].append(data['data']['usersByDevice'])\n",
        "        clm['State'].append(i)\n",
        "        clm['Year'].append(j)\n",
        "        clm['Quarter'].append(int(k.strip('.json')))\n",
        "\n",
        "pd_agg_user = pd.DataFrame(clm)"
      ],
      "metadata": {
        "colab": {
          "base_uri": "https://localhost:8080/",
          "height": 219
        },
        "id": "b9C2rX5dUJYT",
        "outputId": "bb3aa23d-a5b7-4d55-9f66-ad4d9061e94b"
      },
      "id": "b9C2rX5dUJYT",
      "execution_count": null,
      "outputs": [
        {
          "output_type": "error",
          "ename": "FileNotFoundError",
          "evalue": "[Errno 2] No such file or directory: '/content/Pulse/data/aggregated/user/country/india/statemizoram/'",
          "traceback": [
            "\u001b[0;31m---------------------------------------------------------------------------\u001b[0m",
            "\u001b[0;31mFileNotFoundError\u001b[0m                         Traceback (most recent call last)",
            "\u001b[0;32m/tmp/ipython-input-9-1850702793.py\u001b[0m in \u001b[0;36m<cell line: 0>\u001b[0;34m()\u001b[0m\n\u001b[1;32m      8\u001b[0m \u001b[0;32mfor\u001b[0m \u001b[0mi\u001b[0m \u001b[0;32min\u001b[0m \u001b[0mAgg_transc_user_list\u001b[0m\u001b[0;34m:\u001b[0m\u001b[0;34m\u001b[0m\u001b[0;34m\u001b[0m\u001b[0m\n\u001b[1;32m      9\u001b[0m   \u001b[0mp_i\u001b[0m \u001b[0;34m=\u001b[0m \u001b[0mpath2\u001b[0m \u001b[0;34m+\u001b[0m \u001b[0mi\u001b[0m \u001b[0;34m+\u001b[0m\u001b[0;34m\"/\"\u001b[0m\u001b[0;34m\u001b[0m\u001b[0;34m\u001b[0m\u001b[0m\n\u001b[0;32m---> 10\u001b[0;31m   \u001b[0mAgg_year\u001b[0m \u001b[0;34m=\u001b[0m \u001b[0mos\u001b[0m\u001b[0;34m.\u001b[0m\u001b[0mlistdir\u001b[0m\u001b[0;34m(\u001b[0m\u001b[0mp_i\u001b[0m\u001b[0;34m)\u001b[0m\u001b[0;34m\u001b[0m\u001b[0;34m\u001b[0m\u001b[0m\n\u001b[0m\u001b[1;32m     11\u001b[0m   \u001b[0;32mfor\u001b[0m \u001b[0mj\u001b[0m \u001b[0;32min\u001b[0m \u001b[0mAgg_year\u001b[0m\u001b[0;34m:\u001b[0m\u001b[0;34m\u001b[0m\u001b[0;34m\u001b[0m\u001b[0m\n\u001b[1;32m     12\u001b[0m     \u001b[0mp_j\u001b[0m \u001b[0;34m=\u001b[0m \u001b[0mp_i\u001b[0m \u001b[0;34m+\u001b[0m \u001b[0mj\u001b[0m \u001b[0;34m+\u001b[0m \u001b[0;34m\"/\"\u001b[0m\u001b[0;34m\u001b[0m\u001b[0;34m\u001b[0m\u001b[0m\n",
            "\u001b[0;31mFileNotFoundError\u001b[0m: [Errno 2] No such file or directory: '/content/Pulse/data/aggregated/user/country/india/statemizoram/'"
          ]
        }
      ]
    },
    {
      "cell_type": "markdown",
      "source": [
        "Map ---> Insurance"
      ],
      "metadata": {
        "id": "pxgXEC2bz5Kj"
      },
      "id": "pxgXEC2bz5Kj"
    },
    {
      "cell_type": "code",
      "source": [
        "path3 = \"/content/Pulse/data/map/insurance/country/india/state\"\n",
        "agg_trans_list3 = os.listdir(path3)\n",
        "clm3 = {'State': [], 'Year': [], 'Quater': [], 'dataLevel': [], 'gridLevel': [] , 'percentiles': []}\n",
        "for i in agg_trans_list3:\n",
        "  p_i3 = path3+\"/\"+i\n",
        "  agg_yr3 = os.listdir(p_i3)\n",
        "  for j in agg_yr3:\n",
        "    p_j3 = p_i3+\"/\"+j\n",
        "    agg_yr_list3 = os.listdir(p_j3)\n",
        "    for k in agg_yr_list3:\n",
        "      p_k3 = p_j3+\"/\"+k\n",
        "      with open(p_k3, 'r') as f:\n",
        "        data = json.load(f)\n",
        "        clm3['dataLevel'].append(data['data']['meta']['dataLevel'])\n",
        "        clm3['gridLevel'].append(data['data']['meta']['gridLevel'])\n",
        "        clm3['percentiles'].append(data['data']['meta']['percentiles'])\n",
        "        clm3['State'].append(i)\n",
        "        clm3['Year'].append(j)\n",
        "        clm3['Quater'].append(int(k.strip('.json')))\n",
        "\n",
        "df_agg3 = pd.DataFrame(clm3)\n",
        "print(df_agg3.head())"
      ],
      "metadata": {
        "id": "WzUrD9z83c0u"
      },
      "id": "WzUrD9z83c0u",
      "execution_count": null,
      "outputs": []
    },
    {
      "cell_type": "code",
      "source": [
        "df_agg3.to_csv(\"map_insurance.csv\")"
      ],
      "metadata": {
        "id": "7Eczbp8cL2dl"
      },
      "id": "7Eczbp8cL2dl",
      "execution_count": null,
      "outputs": []
    },
    {
      "cell_type": "code",
      "source": [
        "import sqlite3\n",
        "con = sqlite3.connect('pulse.db')\n",
        "c = con.cursor()"
      ],
      "metadata": {
        "id": "PtIxkN2OOd1f"
      },
      "id": "PtIxkN2OOd1f",
      "execution_count": null,
      "outputs": []
    },
    {
      "cell_type": "code",
      "source": [
        "c.execute('''CREATE TABLE IF NOT EXISTS Map_Insurance(\n",
        "  STATE TEXT,\n",
        "  YEAR TEXT,\n",
        "  QUATER TEXT,\n",
        "  dataLevel TEXT,\n",
        "  gridLevel TEXT,\n",
        "  percentiles TEXT\n",
        ")''')"
      ],
      "metadata": {
        "id": "iqO8-UdoOi0Y"
      },
      "id": "iqO8-UdoOi0Y",
      "execution_count": null,
      "outputs": []
    },
    {
      "cell_type": "code",
      "source": [
        "c.executemany('INSERT INTO Map_Insurance VALUES(?,?,?,?,?,?)',\n",
        "              zip(clm['State'], clm['Year'], clm['Quater'], clm['dataLevel'], clm['gridLevel'], clm['percentiles']))"
      ],
      "metadata": {
        "colab": {
          "base_uri": "https://localhost:8080/",
          "height": 164
        },
        "id": "MVctq8AMPCg5",
        "outputId": "2325fcfe-ee6a-478e-dc38-6cbbb73fb8be"
      },
      "id": "MVctq8AMPCg5",
      "execution_count": null,
      "outputs": [
        {
          "output_type": "error",
          "ename": "KeyError",
          "evalue": "'dataLevel'",
          "traceback": [
            "\u001b[0;31m---------------------------------------------------------------------------\u001b[0m",
            "\u001b[0;31mKeyError\u001b[0m                                  Traceback (most recent call last)",
            "\u001b[0;32m/tmp/ipython-input-29-4083459372.py\u001b[0m in \u001b[0;36m<cell line: 0>\u001b[0;34m()\u001b[0m\n\u001b[1;32m      1\u001b[0m c.executemany('INSERT INTO Map_Insurance VALUES(?,?,?,?,?,?)',\n\u001b[0;32m----> 2\u001b[0;31m               zip(clm['State'], clm['Year'], clm['Quater'], clm['dataLevel'], clm['gridLevel'], clm['percentiles']))\n\u001b[0m",
            "\u001b[0;31mKeyError\u001b[0m: 'dataLevel'"
          ]
        }
      ]
    },
    {
      "cell_type": "code",
      "source": [],
      "metadata": {
        "id": "rMjfcfphQ9Vc"
      },
      "id": "rMjfcfphQ9Vc",
      "execution_count": null,
      "outputs": []
    },
    {
      "cell_type": "markdown",
      "source": [
        "Map ---> Transaction"
      ],
      "metadata": {
        "id": "WdxAJ9kqz-VQ"
      },
      "id": "WdxAJ9kqz-VQ"
    },
    {
      "cell_type": "code",
      "source": [
        "   import pandas as pd"
      ],
      "metadata": {
        "id": "eA9hdO9yGwto"
      },
      "id": "eA9hdO9yGwto",
      "execution_count": null,
      "outputs": []
    },
    {
      "cell_type": "code",
      "source": [
        "path4 = \"/content/Pulse/data/map/transaction/hover/country/india/state\"\n",
        "agg_trans_list4 = os.listdir(path4)\n",
        "\n",
        "clm4 = {\n",
        "    'State': [],\n",
        "    'Year': [],\n",
        "    'Quater': [],\n",
        "    'district': [],\n",
        "    'metric_type': [],\n",
        "    'metric_count': [],\n",
        "    'metric_amount': []\n",
        "}\n",
        "\n",
        "for i in agg_trans_list4:\n",
        "    p_i4 = os.path.join(path4, i)\n",
        "    agg_yr4 = os.listdir(p_i4)\n",
        "    for j in agg_yr4:\n",
        "        p_j4 = os.path.join(p_i4, j)\n",
        "        agg_yr_list4 = os.listdir(p_j4)\n",
        "        for k in agg_yr_list4:\n",
        "            p_k4 = os.path.join(p_j4, k)\n",
        "            with open(p_k4, 'r') as f:\n",
        "                data = json.load(f)\n",
        "\n",
        "            # Check if 'hoverDataList' exists and is non-empty\n",
        "            if 'hoverDataList' not in data['data'] or not data['data']['hoverDataList']:\n",
        "                continue\n",
        "\n",
        "            for item in data['data']['hoverDataList']:\n",
        "                # Extract data safely\n",
        "                district_name = item.get('name', 'Unknown') #This gets the \"name\" key (district name),\n",
        "                #If \"name\" is missing, it uses \"Unknown\" to avoid crashing.\n",
        "                metric = item.get('metric', [{}])[0]  # First item in list, or empty dict\n",
        "\n",
        "                clm4['State'].append(i)\n",
        "                clm4['Year'].append(j)\n",
        "                clm4['Quater'].append(int(k.strip('.json')))\n",
        "                clm4['district'].append(district_name)\n",
        "                clm4['metric_type'].append(metric.get('type', 'TOTAL'))\n",
        "                clm4['metric_count'].append(metric.get('count', 0))\n",
        "                clm4['metric_amount'].append(metric.get('amount', 0.0))\n",
        "\n",
        "# Create final DataFrame\n",
        "df_agg4 = pd.DataFrame(clm4)\n",
        "print(df_agg4.head())\n",
        "\n",
        "\n",
        "#hoverDataList,metric,"
      ],
      "metadata": {
        "colab": {
          "base_uri": "https://localhost:8080/"
        },
        "id": "6cYklHOF0ReP",
        "outputId": "b3721742-cbb3-4fdf-e4c4-934bae991f56"
      },
      "id": "6cYklHOF0ReP",
      "execution_count": null,
      "outputs": [
        {
          "output_type": "stream",
          "name": "stdout",
          "text": [
            "     State  Year  Quater            district metric_type  metric_count  \\\n",
            "0  mizoram  2021       2   serchhip district       TOTAL         15664   \n",
            "1  mizoram  2021       2     aizawl district       TOTAL        222893   \n",
            "2  mizoram  2021       2    lunglei district       TOTAL         46084   \n",
            "3  mizoram  2021       2      mamit district       TOTAL         20464   \n",
            "4  mizoram  2021       2  lawngtlai district       TOTAL         38779   \n",
            "\n",
            "   metric_amount  \n",
            "0   3.954121e+07  \n",
            "1   6.357332e+08  \n",
            "2   1.257987e+08  \n",
            "3   5.179796e+07  \n",
            "4   1.105753e+08  \n"
          ]
        }
      ]
    },
    {
      "cell_type": "code",
      "source": [
        "df_agg4.to_csv(\"map_transaction.csv\")"
      ],
      "metadata": {
        "id": "6Z6PfPcMMEWy"
      },
      "id": "6Z6PfPcMMEWy",
      "execution_count": null,
      "outputs": []
    },
    {
      "cell_type": "code",
      "source": [
        "import sqlite3\n",
        "con = sqlite3.connect('pulse.db')\n",
        "c = con.cursor()"
      ],
      "metadata": {
        "id": "UlqZq13vM7GS"
      },
      "id": "UlqZq13vM7GS",
      "execution_count": null,
      "outputs": []
    },
    {
      "cell_type": "code",
      "source": [
        "c.execute('''CREATE TABLE IF NOT EXISTS Map_Transaction(\n",
        "  STATE TEXT,\n",
        "  YEAR TEXT,\n",
        "  QUATER TEXT,\n",
        "  district TEXT,\n",
        "  metric_type TEXT,\n",
        "  metric_count TEXT,\n",
        "  metric_amount TEXT\n",
        ")''')"
      ],
      "metadata": {
        "colab": {
          "base_uri": "https://localhost:8080/"
        },
        "id": "X8dmNrwcM_u3",
        "outputId": "6ca8e19a-fdb6-4076-9702-c233e297f156"
      },
      "id": "X8dmNrwcM_u3",
      "execution_count": null,
      "outputs": [
        {
          "output_type": "execute_result",
          "data": {
            "text/plain": [
              "<sqlite3.Cursor at 0x7d25960c5540>"
            ]
          },
          "metadata": {},
          "execution_count": 39
        }
      ]
    },
    {
      "cell_type": "code",
      "source": [
        "c.executemany('INSERT INTO Map_Transaction VALUES(?,?,?,?,?,?,?)',\n",
        "              zip(clm['State'], clm['Year'], clm['Quater'], clm['district'], clm['metric_type'], clm['metric_count'], clm['metric_amount']))"
      ],
      "metadata": {
        "colab": {
          "base_uri": "https://localhost:8080/",
          "height": 182
        },
        "id": "vtxphIoxNM22",
        "outputId": "fe3ba048-39b7-4e47-a698-4e2d61e59574"
      },
      "id": "vtxphIoxNM22",
      "execution_count": null,
      "outputs": [
        {
          "output_type": "error",
          "ename": "KeyError",
          "evalue": "'district'",
          "traceback": [
            "\u001b[0;31m---------------------------------------------------------------------------\u001b[0m",
            "\u001b[0;31mKeyError\u001b[0m                                  Traceback (most recent call last)",
            "\u001b[0;32m/tmp/ipython-input-41-2869140768.py\u001b[0m in \u001b[0;36m<cell line: 0>\u001b[0;34m()\u001b[0m\n\u001b[1;32m      1\u001b[0m c.executemany('INSERT INTO Map_Transaction VALUES(?,?,?,?,?,?,?)',\n\u001b[0;32m----> 2\u001b[0;31m               zip(clm['State'], clm['Year'], clm['Quater'], clm['district'], clm['metric_type'], clm['metric_count'], clm['metric_amount']))\n\u001b[0m",
            "\u001b[0;31mKeyError\u001b[0m: 'district'"
          ]
        }
      ]
    }
  ],
  "metadata": {
    "colab": {
      "provenance": [],
      "include_colab_link": true
    },
    "language_info": {
      "name": "python"
    },
    "kernelspec": {
      "name": "python3",
      "display_name": "Python 3"
    }
  },
  "nbformat": 4,
  "nbformat_minor": 5
}