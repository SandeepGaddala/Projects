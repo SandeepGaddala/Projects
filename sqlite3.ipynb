{
  "nbformat": 4,
  "nbformat_minor": 0,
  "metadata": {
    "colab": {
      "provenance": [],
      "authorship_tag": "ABX9TyO4jzubooEjG6YO8Yow9aVO",
      "include_colab_link": true
    },
    "kernelspec": {
      "name": "python3",
      "display_name": "Python 3"
    },
    "language_info": {
      "name": "python"
    }
  },
  "cells": [
    {
      "cell_type": "markdown",
      "metadata": {
        "id": "view-in-github",
        "colab_type": "text"
      },
      "source": [
        "<a href=\"https://colab.research.google.com/github/SandeepGaddala/Projects/blob/main/sqlite3.ipynb\" target=\"_parent\"><img src=\"https://colab.research.google.com/assets/colab-badge.svg\" alt=\"Open In Colab\"/></a>"
      ]
    },
    {
      "cell_type": "code",
      "execution_count": null,
      "metadata": {
        "id": "nFIaHFfIvZg3"
      },
      "outputs": [],
      "source": [
        "import sqlite3"
      ]
    },
    {
      "cell_type": "code",
      "source": [
        "from google.colab import drive\n",
        "drive.mount('/content/drive')"
      ],
      "metadata": {
        "id": "HTgGaEeJ1kso",
        "colab": {
          "base_uri": "https://localhost:8080/"
        },
        "outputId": "e9c66296-2395-4f60-e82e-53b247ab5c99"
      },
      "execution_count": null,
      "outputs": [
        {
          "output_type": "stream",
          "name": "stdout",
          "text": [
            "Mounted at /content/drive\n"
          ]
        }
      ]
    },
    {
      "cell_type": "code",
      "source": [
        "import pandas as pd\n",
        "import os"
      ],
      "metadata": {
        "id": "01YC_PF12zoQ"
      },
      "execution_count": null,
      "outputs": []
    },
    {
      "cell_type": "code",
      "source": [
        "conn=sqlite3.connect(\"my_database.db\")"
      ],
      "metadata": {
        "id": "3HhS1PCjappI"
      },
      "execution_count": null,
      "outputs": []
    },
    {
      "cell_type": "code",
      "source": [
        "db_path=('/content/drive/MyDrive/my_database.db')"
      ],
      "metadata": {
        "id": "7v-8NL9P244V"
      },
      "execution_count": null,
      "outputs": []
    },
    {
      "cell_type": "code",
      "source": [
        "db_folder=('/content/drive/MyDrive/empty folder')\n",
        "os.makedirs(db_folder,exist_ok=True)\n",
        "db_path=os.path.join(db_folder,'my_database.db')\n"
      ],
      "metadata": {
        "id": "SXkxELmF3LHM"
      },
      "execution_count": null,
      "outputs": []
    },
    {
      "cell_type": "code",
      "source": [
        "conn=sqlite3.connect(db_path)\n",
        "cursor=conn.cursor()\n",
        "print(\"database connect at:\",db_path)"
      ],
      "metadata": {
        "colab": {
          "base_uri": "https://localhost:8080/"
        },
        "id": "1dejRUKrbGIO",
        "outputId": "44ed9ba3-eb79-4e80-ccda-621206416ab6"
      },
      "execution_count": null,
      "outputs": [
        {
          "output_type": "stream",
          "name": "stdout",
          "text": [
            "database connect at: /content/drive/MyDrive/empty folder/my_database.db\n"
          ]
        }
      ]
    },
    {
      "cell_type": "code",
      "source": [
        "cursor.execute('''\n",
        "CREATE TABLE BANK_CUSTOMER ( customer_id INT ,\n",
        "             \tcustomer_name VARCHAR(20),\n",
        "             \tAddress \tVARCHAR(20),\n",
        "             \tstate_code  VARCHAR(3) ,\n",
        "             \tTelephone   VARCHAR(10)\t);\n",
        "''')\n",
        "conn.commit()\n"
      ],
      "metadata": {
        "id": "M8qeq2ofZdyp",
        "colab": {
          "base_uri": "https://localhost:8080/",
          "height": 219
        },
        "outputId": "10f5630c-88e2-4cac-969b-f4c34bf19083"
      },
      "execution_count": null,
      "outputs": [
        {
          "output_type": "error",
          "ename": "OperationalError",
          "evalue": "table BANK_CUSTOMER already exists",
          "traceback": [
            "\u001b[0;31m---------------------------------------------------------------------------\u001b[0m",
            "\u001b[0;31mOperationalError\u001b[0m                          Traceback (most recent call last)",
            "\u001b[0;32m<ipython-input-8-52620151>\u001b[0m in \u001b[0;36m<cell line: 0>\u001b[0;34m()\u001b[0m\n\u001b[0;32m----> 1\u001b[0;31m cursor.execute('''\n\u001b[0m\u001b[1;32m      2\u001b[0m CREATE TABLE BANK_CUSTOMER ( customer_id INT ,\n\u001b[1;32m      3\u001b[0m                 \u001b[0mcustomer_name\u001b[0m \u001b[0mVARCHAR\u001b[0m\u001b[0;34m(\u001b[0m\u001b[0;36m20\u001b[0m\u001b[0;34m)\u001b[0m\u001b[0;34m,\u001b[0m\u001b[0;34m\u001b[0m\u001b[0;34m\u001b[0m\u001b[0m\n\u001b[1;32m      4\u001b[0m                 \u001b[0mAddress\u001b[0m         \u001b[0mVARCHAR\u001b[0m\u001b[0;34m(\u001b[0m\u001b[0;36m20\u001b[0m\u001b[0;34m)\u001b[0m\u001b[0;34m,\u001b[0m\u001b[0;34m\u001b[0m\u001b[0;34m\u001b[0m\u001b[0m\n\u001b[1;32m      5\u001b[0m                 \u001b[0mstate_code\u001b[0m  \u001b[0mVARCHAR\u001b[0m\u001b[0;34m(\u001b[0m\u001b[0;36m3\u001b[0m\u001b[0;34m)\u001b[0m \u001b[0;34m,\u001b[0m\u001b[0;34m\u001b[0m\u001b[0;34m\u001b[0m\u001b[0m\n",
            "\u001b[0;31mOperationalError\u001b[0m: table BANK_CUSTOMER already exists"
          ]
        }
      ]
    },
    {
      "cell_type": "code",
      "source": [
        "def insert_BANK_CUSTOMER(customer_id, customer_name, address, state_code, telephone):\n",
        "  cursor.execute(\"INSERT INTO BANK_CUSTOMER (customer_id, customer_name, address, state_code, telephone)VALUES (?,?,?,?,?)\",\n",
        "  (customer_id, customer_name, address, state_code, telephone))\n",
        "  conn.commit\n",
        "\n",
        "insert_BANK_CUSTOMER(123001,\"Oliver\", \"225-5, Emeryville\", \"CA\" , \"1897614500\")\n",
        "insert_BANK_CUSTOMER(123002,\"George\", \"194-6,New brighton\",\"MN\" , \"1897617000\")\n",
        "insert_BANK_CUSTOMER(123003,\"Harry\", \"2909-5,walnut creek\",\"CA\" , \"1897617866\")\n",
        "insert_BANK_CUSTOMER(123004,\"Jack\", \"229-5, Concord\",  \t\"CA\" , \"1897627999\")\n",
        "insert_BANK_CUSTOMER(123005,\"Jacob\", \"325-7, Mission Dist\",\"SFO\", \"1897637000\")\n",
        "insert_BANK_CUSTOMER(123006,\"Noah\", \"275-9, saint-paul\" ,  \"MN\" , \"1897613200\")\n",
        "insert_BANK_CUSTOMER(123007,\"Charlie\",\"125-1,Richfield\",   \"MN\" , \"1897617666\")\n",
        "insert_BANK_CUSTOMER(123008,\"Robin\",\"3005-1,Heathrow\", \t\"NY\" , \"1897614000\")\n"
      ],
      "metadata": {
        "id": "ZT2_RxS5bpXx"
      },
      "execution_count": null,
      "outputs": []
    },
    {
      "cell_type": "code",
      "source": [
        "pip install tabulate"
      ],
      "metadata": {
        "id": "snWY0o9eflgx"
      },
      "execution_count": null,
      "outputs": []
    },
    {
      "cell_type": "code",
      "source": [
        "from tabulate import tabulate\n",
        "\n",
        "#fetch data\n",
        "cursor.execute(\"select * from BANK_CUSTOMER\")\n",
        "rows=cursor.fetchall()\n",
        "\n",
        "#get column names\n",
        "columns=[desc[0] for desc in cursor.description]\n",
        "\n",
        "#print table\n",
        "print(tabulate(rows,headers=columns,tablefmt=\"grid\"))"
      ],
      "metadata": {
        "colab": {
          "base_uri": "https://localhost:8080/"
        },
        "id": "fqWgky1HgELF",
        "outputId": "63cd9380-a6e1-4c81-8d00-226a94719f75"
      },
      "execution_count": null,
      "outputs": [
        {
          "output_type": "stream",
          "name": "stdout",
          "text": [
            "+---------------+-----------------+---------------------+--------------+-------------+\n",
            "|   customer_id | customer_name   | Address             | state_code   |   Telephone |\n",
            "+===============+=================+=====================+==============+=============+\n",
            "|        123001 | Oliver          | 225-5, Emeryville   | CA           |  1897614500 |\n",
            "+---------------+-----------------+---------------------+--------------+-------------+\n",
            "|        123002 | George          | 194-6,New brighton  | MN           |  1897617000 |\n",
            "+---------------+-----------------+---------------------+--------------+-------------+\n",
            "|        123003 | Harry           | 2909-5,walnut creek | CA           |  1897617866 |\n",
            "+---------------+-----------------+---------------------+--------------+-------------+\n",
            "|        123004 | Jack            | 229-5, Concord      | CA           |  1897627999 |\n",
            "+---------------+-----------------+---------------------+--------------+-------------+\n",
            "|        123005 | Jacob           | 325-7, Mission Dist | SFO          |  1897637000 |\n",
            "+---------------+-----------------+---------------------+--------------+-------------+\n",
            "|        123006 | Noah            | 275-9, saint-paul   | MN           |  1897613200 |\n",
            "+---------------+-----------------+---------------------+--------------+-------------+\n",
            "|        123007 | Charlie         | 125-1,Richfield     | MN           |  1897617666 |\n",
            "+---------------+-----------------+---------------------+--------------+-------------+\n",
            "|        123008 | Robin           | 3005-1,Heathrow     | NY           |  1897614000 |\n",
            "+---------------+-----------------+---------------------+--------------+-------------+\n"
          ]
        }
      ]
    },
    {
      "cell_type": "code",
      "source": [
        "cursor.execute('''\n",
        "CREATE TABLE BANK_CUSTOMER_EXPORT ( customer_id CHAR(10),\n",
        "customer_name CHAR(20),\n",
        "Address CHAR(20),\n",
        "state_code  CHAR(3) ,\n",
        "Telephone  CHAR(10));\n",
        "\n",
        "''')\n",
        "\n",
        "conn.commit()"
      ],
      "metadata": {
        "id": "HoxkunnQhW_2"
      },
      "execution_count": null,
      "outputs": []
    },
    {
      "cell_type": "code",
      "source": [
        "def insert_BANK_CUSTOMER_EXPORT(customer_id, customer_name, address, state_code, telephone):\n",
        "  cursor.execute(\"INSERT INTO BANK_CUSTOMER_EXPORT (customer_id, customer_name, address, state_code, telephone)VALUES (?,?,?,?,?)\",\n",
        "  (customer_id, customer_name, address, state_code, telephone))\n",
        "  conn.commit\n",
        "\n",
        "insert_BANK_CUSTOMER_EXPORT (\"123001 \",\"Oliver\", \"225-5, Emeryville\", \"CA\" , \"1897614500\")\n",
        "insert_BANK_CUSTOMER_EXPORT (\"123002 \",\"George\", \"194-6,New brighton\",\"MN\" , \"189761700\")\n"
      ],
      "metadata": {
        "id": "Wc3Qw_kBhziW"
      },
      "execution_count": null,
      "outputs": []
    },
    {
      "cell_type": "code",
      "source": [
        "from tabulate import tabulate\n",
        "\n",
        "#fetch data\n",
        "cursor.execute(\"select * from BANK_CUSTOMER_EXPORT\")\n",
        "rows=cursor.fetchall()\n",
        "\n",
        "#get column names\n",
        "columns=[desc[0] for desc in cursor.description]\n",
        "\n",
        "#print table\n",
        "print(tabulate(rows,headers=columns,tablefmt=\"grid\"))"
      ],
      "metadata": {
        "colab": {
          "base_uri": "https://localhost:8080/"
        },
        "id": "Y-t1hRvCiycz",
        "outputId": "0909fdbe-44c6-456d-8bee-a63677454b69"
      },
      "execution_count": null,
      "outputs": [
        {
          "output_type": "stream",
          "name": "stdout",
          "text": [
            "+---------------+-----------------+--------------------+--------------+-------------+\n",
            "|   customer_id | customer_name   | Address            | state_code   |   Telephone |\n",
            "+===============+=================+====================+==============+=============+\n",
            "|       123001  | Oliver          | 225-5, Emeryville  | CA           |  1897614500 |\n",
            "+---------------+-----------------+--------------------+--------------+-------------+\n",
            "|       123002  | George          | 194-6,New brighton | MN           |   189761700 |\n",
            "+---------------+-----------------+--------------------+--------------+-------------+\n"
          ]
        }
      ]
    },
    {
      "cell_type": "code",
      "source": [
        "def INSERT_BANK_CUSTOMER_Details(customer_id,Account_Number, Account_type,Balance_amount , Account_status,Relationship_type ):\n",
        "  cursor.execute(\"INSERT INTO BANK_CUSTOMER_EXPORT (customer_id,Account_Number, Account_type,Balance_amount , Account_status,Relationship_type)VALUES (?,?,?,?,?)\",\n",
        "  (customer_id, Account_Number, Account_type,Balance_amount , Account_status,Relationship_type))\n",
        "  conn.commit\n",
        "\n",
        "Insert_Bank_Customer_Details(123001, \"4000-1956-3456\",  \"SAVINGS\" , 200000 ,\"ACTIVE\",\"P\")\n",
        "Insert_Bank_Customer_Details(123001, \"5000-1700-3456\", \"RECURRING DEPOSITS\" ,9400000 ,\"ACTIVE\",\"S\")\n",
        "Insert_Bank_Customer_Details(123002, \"4000-1956-2001\",  \"SAVINGS\", 400000 ,\"ACTIVE\",\"P\")\n",
        "Insert_Bank_Customer_Details(123002, \"5000-1700-5001\",  \"RECURRING DEPOSITS\" ,7500000 ,\"ACTIVE\",\"S\")\n",
        "Insert_Bank_Customer_Details(123003, \"4000-1956-2900\",  \"SAVINGS\" ,750000,\"INACTIVE\",\"P\")\n",
        "Insert_Bank_Customer_Details(123004, \"5000-1700-6091\", \"RECURRING DEPOSITS\" ,7500000 ,\"ACTIVE\",\"S\")\n",
        "Insert_Bank_Customer_Details(123004, \"4000-1956-3401\",  \"SAVINGS\" , 655000 ,\"ACTIVE\",\"P\")\n",
        "Insert_Bank_Customer_Details(123005, \"4000-1956-5102\",  \"SAVINGS\" , 300000 ,\"ACTIVE\",\"P\")\n",
        "Insert_Bank_Customer_Details(123006, \"4000-1956-5698\",  \"SAVINGS\" , 455000 ,\"ACTIVE\" ,\"P\")\n",
        "Insert_Bank_Customer_Details(123007, \"5000-1700-9800\",  \"SAVINGS\" , 355000 ,\"ACTIVE\" ,\"P\")\n",
        "Insert_Bank_Customer_Details(123007, \"4000-1956-9977\",  \"RECURRING DEPOSITS\" , 7025000,\"ACTIVE\" ,\"S\")\n",
        "Insert_Bank_Customer_Details(123007, \"9000-1700-7777-4321\",  \"Credit Card\"\t,0  ,\"INACTIVE\", \"P\")\n",
        "Insert_Bank_Customer_Details(123007, '5900-1900-9877-5543', \"Add-on Credit Card\" ,   0   ,\"ACTIVE\", \"S\")\n",
        "Insert_Bank_Customer_Details(123008, \"5000-1700-7755\",  \"SAVINGS\"   \t,0   \t,\"INACTIVE\",\"P\")\n",
        "Insert_Bank_Customer_Details(123006, '5800-1700-9800-7755', \"Credit Card\"   ,0   \t,\"ACTIVE\", \"P\")\n",
        "Insert_Bank_Customer_Details(123006, '5890-1970-7706-8912', \"Add-on Credit Card\"   ,0   \t,\"ACTIVE\", \"S\")\n"
      ],
      "metadata": {
        "id": "qx5Id5z1jvL9",
        "colab": {
          "base_uri": "https://localhost:8080/",
          "height": 219
        },
        "outputId": "4d662ba4-4971-4a2f-8f45-31d5bf50503a"
      },
      "execution_count": null,
      "outputs": [
        {
          "output_type": "error",
          "ename": "NameError",
          "evalue": "name 'Insert_Bank_Customer_Details' is not defined",
          "traceback": [
            "\u001b[0;31m---------------------------------------------------------------------------\u001b[0m",
            "\u001b[0;31mNameError\u001b[0m                                 Traceback (most recent call last)",
            "\u001b[0;32m<ipython-input-14-1285426705>\u001b[0m in \u001b[0;36m<cell line: 0>\u001b[0;34m()\u001b[0m\n\u001b[1;32m      4\u001b[0m   \u001b[0mconn\u001b[0m\u001b[0;34m.\u001b[0m\u001b[0mcommit\u001b[0m\u001b[0;34m\u001b[0m\u001b[0;34m\u001b[0m\u001b[0m\n\u001b[1;32m      5\u001b[0m \u001b[0;34m\u001b[0m\u001b[0m\n\u001b[0;32m----> 6\u001b[0;31m \u001b[0mInsert_Bank_Customer_Details\u001b[0m\u001b[0;34m(\u001b[0m\u001b[0;36m123001\u001b[0m\u001b[0;34m,\u001b[0m \u001b[0;34m\"4000-1956-3456\"\u001b[0m\u001b[0;34m,\u001b[0m  \u001b[0;34m\"SAVINGS\"\u001b[0m \u001b[0;34m,\u001b[0m \u001b[0;36m200000\u001b[0m \u001b[0;34m,\u001b[0m\u001b[0;34m\"ACTIVE\"\u001b[0m\u001b[0;34m,\u001b[0m\u001b[0;34m\"P\"\u001b[0m\u001b[0;34m)\u001b[0m\u001b[0;34m\u001b[0m\u001b[0;34m\u001b[0m\u001b[0m\n\u001b[0m\u001b[1;32m      7\u001b[0m \u001b[0mInsert_Bank_Customer_Details\u001b[0m\u001b[0;34m(\u001b[0m\u001b[0;36m123001\u001b[0m\u001b[0;34m,\u001b[0m \u001b[0;34m\"5000-1700-3456\"\u001b[0m\u001b[0;34m,\u001b[0m \u001b[0;34m\"RECURRING DEPOSITS\"\u001b[0m \u001b[0;34m,\u001b[0m\u001b[0;36m9400000\u001b[0m \u001b[0;34m,\u001b[0m\u001b[0;34m\"ACTIVE\"\u001b[0m\u001b[0;34m,\u001b[0m\u001b[0;34m\"S\"\u001b[0m\u001b[0;34m)\u001b[0m\u001b[0;34m\u001b[0m\u001b[0;34m\u001b[0m\u001b[0m\n\u001b[1;32m      8\u001b[0m \u001b[0mInsert_Bank_Customer_Details\u001b[0m\u001b[0;34m(\u001b[0m\u001b[0;36m123002\u001b[0m\u001b[0;34m,\u001b[0m \u001b[0;34m\"4000-1956-2001\"\u001b[0m\u001b[0;34m,\u001b[0m  \u001b[0;34m\"SAVINGS\"\u001b[0m\u001b[0;34m,\u001b[0m \u001b[0;36m400000\u001b[0m \u001b[0;34m,\u001b[0m\u001b[0;34m\"ACTIVE\"\u001b[0m\u001b[0;34m,\u001b[0m\u001b[0;34m\"P\"\u001b[0m\u001b[0;34m)\u001b[0m\u001b[0;34m\u001b[0m\u001b[0;34m\u001b[0m\u001b[0m\n",
            "\u001b[0;31mNameError\u001b[0m: name 'Insert_Bank_Customer_Details' is not defined"
          ]
        }
      ]
    }
  ]
}