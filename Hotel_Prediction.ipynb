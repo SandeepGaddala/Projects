{
  "nbformat": 4,
  "nbformat_minor": 0,
  "metadata": {
    "colab": {
      "provenance": [],
      "authorship_tag": "ABX9TyPYdeZdjVc0iFvkNpWEeyqR",
      "include_colab_link": true
    },
    "kernelspec": {
      "name": "python3",
      "display_name": "Python 3"
    },
    "language_info": {
      "name": "python"
    }
  },
  "cells": [
    {
      "cell_type": "markdown",
      "metadata": {
        "id": "view-in-github",
        "colab_type": "text"
      },
      "source": [
        "<a href=\"https://colab.research.google.com/github/SandeepGaddala/Projects/blob/main/Hotel_Prediction.ipynb\" target=\"_parent\"><img src=\"https://colab.research.google.com/assets/colab-badge.svg\" alt=\"Open In Colab\"/></a>"
      ]
    },
    {
      "cell_type": "code",
      "execution_count": null,
      "metadata": {
        "id": "rZp7elyPKY2y"
      },
      "outputs": [],
      "source": [
        "import pandas as pd"
      ]
    },
    {
      "cell_type": "markdown",
      "source": [
        "Load the files\n",
        "\n",
        "\n"
      ],
      "metadata": {
        "id": "knH1UqR2Kwnw"
      }
    },
    {
      "cell_type": "code",
      "source": [
        "orders = pd.read_csv('/content/orders.csv')\n",
        "train_locations = pd.read_csv('/content/train_locations.csv')\n",
        "vendors = pd.read_csv('/content/vendors.csv')\n"
      ],
      "metadata": {
        "id": "nn_ovgx0LECl"
      },
      "execution_count": null,
      "outputs": []
    },
    {
      "cell_type": "markdown",
      "source": [
        "prepare positive sample and drop duplicate data"
      ],
      "metadata": {
        "id": "S3sOGV_bLmhA"
      }
    },
    {
      "cell_type": "code",
      "source": [
        "positive_samples = orders[['customer_id', 'vendor_id', 'LOCATION_NUMBER']].rename(columns={'LOCATION_NUMBER': 'location_number'})\n",
        "positive_samples['target'] = 1\n",
        "positive_samples = positive_samples.drop_duplicates()\n"
      ],
      "metadata": {
        "id": "TXiEh3IuLwts"
      },
      "execution_count": null,
      "outputs": []
    },
    {
      "cell_type": "code",
      "source": [
        "customer_locations = train_locations[['customer_id', 'location_number']].drop_duplicates()\n",
        "vendor_ids = vendors[['id']].rename(columns={'id': 'vendor_id'})\n",
        "\n",
        "customer_locations['key'] = 1\n",
        "vendor_ids['key'] = 1\n",
        "all_combinations = customer_locations.merge(vendor_ids, on='key').drop('key', axis=1)\n"
      ],
      "metadata": {
        "id": "FdpP3ipuL233"
      },
      "execution_count": null,
      "outputs": []
    },
    {
      "cell_type": "markdown",
      "source": [
        "Merge Values and assign values"
      ],
      "metadata": {
        "id": "cnn9pZ3gMAFm"
      }
    },
    {
      "cell_type": "code",
      "source": [
        "full_data = all_combinations.merge(\n",
        "    positive_samples,\n",
        "    on=['customer_id', 'location_number', 'vendor_id'],\n",
        "    how='left'\n",
        ")\n",
        "full_data['target'] = full_data['target'].fillna(0).astype(int)\n"
      ],
      "metadata": {
        "id": "OOduMoZUMEFq"
      },
      "execution_count": null,
      "outputs": []
    },
    {
      "cell_type": "markdown",
      "source": [
        "Distance between customer and vendor"
      ],
      "metadata": {
        "id": "WyWwXAM0Mg9V"
      }
    },
    {
      "cell_type": "code",
      "source": [
        "import numpy as np\n",
        "\n",
        "def euclidean_distance(lat1, lon1, lat2, lon2):\n",
        "    return np.sqrt((lat1 - lat2)**2 + (lon1 - lon2)**2)\n"
      ],
      "metadata": {
        "id": "0VikwXksMhy_"
      },
      "execution_count": null,
      "outputs": []
    },
    {
      "cell_type": "markdown",
      "source": [
        "Model Building"
      ],
      "metadata": {
        "id": "UZSuAT43MvPl"
      }
    },
    {
      "cell_type": "code",
      "source": [
        "from sklearn.model_selection import train_test_split\n",
        "from sklearn.ensemble import RandomForestClassifier\n",
        "from sklearn.metrics import accuracy_score\n",
        "\n",
        "# X = features, y = target\n",
        "X = full_data.drop(columns=['target', 'customer_id', 'vendor_id'])\n",
        "y = full_data['target']\n",
        "\n",
        "X_train, X_test, y_train, y_test = train_test_split(X, y, test_size=0.2)\n",
        "\n",
        "model = RandomForestClassifier()\n",
        "model.fit(X_train, y_train)\n",
        "\n",
        "y_pred = model.predict(X_test)\n",
        "print(\"Accuracy:\", accuracy_score(y_test, y_pred))\n"
      ],
      "metadata": {
        "colab": {
          "base_uri": "https://localhost:8080/"
        },
        "id": "VlgLn9yiM07V",
        "outputId": "5ae281f2-9323-439c-fbfe-66ee35a0dba1"
      },
      "execution_count": null,
      "outputs": [
        {
          "output_type": "stream",
          "name": "stdout",
          "text": [
            "Accuracy: 0.9864788330000168\n"
          ]
        }
      ]
    },
    {
      "cell_type": "code",
      "source": [
        "full_data['CID X LOC_NUM X VENDOR'] = (\n",
        "    full_data['customer_id'] + ' X ' +\n",
        "    full_data['location_number'].astype(str) + ' X ' +\n",
        "    full_data['vendor_id'].astype(str)\n",
        ")\n",
        "\n",
        "output = full_data[['CID X LOC_NUM X VENDOR', 'target']]\n",
        "output.to_csv(\"final_output.csv\", index=False)\n"
      ],
      "metadata": {
        "id": "Tg9wytn2NTB6"
      },
      "execution_count": null,
      "outputs": []
    }
  ]
}